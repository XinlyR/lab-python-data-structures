{
 "cells": [
  {
   "cell_type": "markdown",
   "metadata": {
    "tags": []
   },
   "source": [
    "# Lab | Data Structures "
   ]
  },
  {
   "cell_type": "markdown",
   "metadata": {},
   "source": [
    "## Exercise: Managing Customer Orders\n",
    "\n",
    "As part of a business venture, you are starting an online store that sells various products. To ensure smooth operations, you need to develop a program that manages customer orders and inventory.\n",
    "\n",
    "Follow the steps below to complete the exercise:\n",
    "\n",
    "1. Define a list called `products` that contains the following items: \"t-shirt\", \"mug\", \"hat\", \"book\", \"keychain\".\n",
    "\n",
    "2. Create an empty dictionary called `inventory`.\n",
    "\n",
    "3. Ask the user to input the quantity of each product available in the inventory. Use the product names from the `products` list as keys in the `inventory` dictionary and assign the respective quantities as values.\n",
    "\n",
    "4. Create an empty set called `customer_orders`.\n",
    "\n",
    "5. Ask the user to input the name of three products that a customer wants to order (from those in the products list, meaning three products out of \"t-shirt\", \"mug\", \"hat\", \"book\" or \"keychain\". Add each product name to the `customer_orders` set.\n",
    "\n",
    "6. Print the products in the `customer_orders` set.\n",
    "\n",
    "7. Calculate the following order statistics:\n",
    "   - Total Products Ordered: The total number of products in the `customer_orders` set.\n",
    "   - Percentage of Products Ordered: The percentage of products ordered compared to the total available products.\n",
    "   \n",
    "   Store these statistics in a tuple called `order_status`.\n",
    "\n",
    "8. Print the order statistics using the following format:\n",
    "   ```\n",
    "   Order Statistics:\n",
    "   Total Products Ordered: <total_products_ordered>\n",
    "   Percentage of Products Ordered: <percentage_ordered>% \n",
    "   ```\n",
    "\n",
    "9. Update the inventory by subtracting 1 from the quantity of each product. Modify the `inventory` dictionary accordingly.\n",
    "\n",
    "10. Print the updated inventory, displaying the quantity of each product on separate lines.\n",
    "\n",
    "Solve the exercise by implementing the steps using the Python concepts of lists, dictionaries, sets, and basic input/output operations. "
   ]
  },
  {
   "cell_type": "code",
   "execution_count": 57,
   "metadata": {},
   "outputs": [
    {
     "name": "stdin",
     "output_type": "stream",
     "text": [
      "How many t-shirt do you have in stock:  6\n",
      "How many mug do you have in stock:  6\n",
      "How many hat do you have in stock:  6\n",
      "How many book do you have in stock:  6\n",
      "How many keychain do you have in stock:  6\n"
     ]
    },
    {
     "name": "stdout",
     "output_type": "stream",
     "text": [
      "{'t-shirt': 6, 'mug': 6, 'hat': 6, 'book': 6, 'keychain': 6}\n"
     ]
    }
   ],
   "source": [
    "#Define a list called products that contains the following items: \"t-shirt\", \"mug\", \"hat\", \"book\", \"keychain\".\n",
    "\n",
    "#Create an empty dictionary called inventory.\n",
    "products=[\"t-shirt\", \"mug\", \"hat\", \"book\", \"keychain\"]\n",
    "inventory={}\n",
    "for i in products:\n",
    "    values=int(input(f\"How many {i} do you have in stock: \"))\n",
    "    inventory.update({i:values})\n",
    "print(inventory)"
   ]
  },
  {
   "cell_type": "code",
   "execution_count": 59,
   "metadata": {},
   "outputs": [
    {
     "name": "stdin",
     "output_type": "stream",
     "text": [
      "Pick 3 from ['t-shirt', 'mug', 'hat', 'book', 'keychain'] book\n",
      "Pick -1 from ['t-shirt', 'mug', 'hat', 'book', 'keychain'] mug\n",
      "Pick -1 from ['t-shirt', 'mug', 'hat', 'book', 'keychain'] hat\n"
     ]
    },
    {
     "name": "stdout",
     "output_type": "stream",
     "text": [
      "{'mug', 'hat', 'book'}\n"
     ]
    }
   ],
   "source": [
    "#Ask the user to input the quantity of each product available in the inventory. Use the product names from the products list as keys in the inventory dictionary and assign the respective quantities as values.\n",
    "#Create an empty set called customer_orders.\n",
    "#Ask the user to input the name of three products that a customer wants to order (from those in the products list, meaning three products out of \"t-shirt\", \"mug\", \"hat\", \"book\" or \"keychain\". Add each product name to the customer_orders set.\n",
    "#Print the products in the customer_orders set.\n",
    "client_choice=3\n",
    "buy_list=set()\n",
    "buylist=list(inventory.keys())\n",
    "\n",
    "for k in range(3):\n",
    "    choice=input(f\"Pick {client_choice} from {buylist}\")\n",
    "    client_choice=-1\n",
    "    buy_list.add(choice)\n",
    "    products.remove(choice)\n",
    "print(buy_list)\n",
    "    "
   ]
  },
  {
   "cell_type": "code",
   "execution_count": 61,
   "metadata": {},
   "outputs": [
    {
     "name": "stdout",
     "output_type": "stream",
     "text": [
      "(3, 10)\n"
     ]
    }
   ],
   "source": [
    "#Print the order statistics using the following format:\n",
    "#Order Statistics:\n",
    "#Total Products Ordered: <total_products_ordered>\n",
    "#Percentage of Products Ordered: <percentage_ordered>% \n",
    "\n",
    "torder=len(buy_list)\n",
    "a=int(torder/sum(inventory.values())*100)\n",
    "b=(torder,a)\n",
    "print(b)"
   ]
  },
  {
   "cell_type": "code",
   "execution_count": 63,
   "metadata": {},
   "outputs": [
    {
     "name": "stdout",
     "output_type": "stream",
     "text": [
      "{'t-shirt': 6, 'mug': 5, 'hat': 5, 'book': 5, 'keychain': 6}\n"
     ]
    }
   ],
   "source": [
    "#Update the inventory by subtracting 1 from the quantity of each product. Modify the inventory dictionary accordingly.\n",
    "\n",
    "for y in buy_list:\n",
    "   # print(y)\n",
    "    v=inventory[y]\n",
    "    inventory.update({y:v-1})\n",
    "print(inventory)\n"
   ]
  },
  {
   "cell_type": "code",
   "execution_count": 65,
   "metadata": {},
   "outputs": [
    {
     "name": "stdout",
     "output_type": "stream",
     "text": [
      "t-shirt:6\n",
      "mug:5\n",
      "hat:5\n",
      "book:5\n",
      "keychain:6\n"
     ]
    }
   ],
   "source": [
    "#Print the updated inventory, displaying the quantity of each product on separate lines.\n",
    "#Solve the exercise by implementing the steps using the Python concepts of lists, dictionaries, sets, and basic input/output operations.\n",
    "for z in inventory:\n",
    "    print(z+\":\"+str(inventory[z]))"
   ]
  },
  {
   "cell_type": "code",
   "execution_count": null,
   "metadata": {},
   "outputs": [],
   "source": []
  }
 ],
 "metadata": {
  "kernelspec": {
   "display_name": "Python 3 (ipykernel)",
   "language": "python",
   "name": "python3"
  },
  "language_info": {
   "codemirror_mode": {
    "name": "ipython",
    "version": 3
   },
   "file_extension": ".py",
   "mimetype": "text/x-python",
   "name": "python",
   "nbconvert_exporter": "python",
   "pygments_lexer": "ipython3",
   "version": "3.12.4"
  }
 },
 "nbformat": 4,
 "nbformat_minor": 4
}
